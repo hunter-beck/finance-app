{
 "cells": [
  {
   "cell_type": "code",
   "execution_count": 1,
   "metadata": {},
   "outputs": [],
   "source": [
    "from finance.client import Client\n",
    "from finance.client.data_classes.accounts import Account\n",
    "from finance.client.data_classes.records import Record"
   ]
  },
  {
   "cell_type": "code",
   "execution_count": 2,
   "metadata": {},
   "outputs": [],
   "source": [
    "c = Client()"
   ]
  },
  {
   "cell_type": "code",
   "execution_count": 19,
   "metadata": {
    "scrolled": false
   },
   "outputs": [],
   "source": [
    "accounts = c.accounts.list()"
   ]
  },
  {
   "cell_type": "code",
   "execution_count": 21,
   "metadata": {},
   "outputs": [
    {
     "name": "stdout",
     "output_type": "stream",
     "text": [
      "882b8dca\n",
      "605096bb\n",
      "9c4b0e97\n",
      "22d775cd\n",
      "6c0037c1\n",
      "463a9896\n",
      "cb6a7a36\n",
      "cc237820\n",
      "affe99d7\n"
     ]
    }
   ],
   "source": [
    "for account in accounts:\n",
    "    print(account.id)"
   ]
  },
  {
   "cell_type": "code",
   "execution_count": 4,
   "metadata": {},
   "outputs": [],
   "source": [
    "def createRecord():\n",
    "    \n",
    "    date = input('Date (YYYY-MM-DD):')\n",
    "    account_name = input('Account Name:')\n",
    "    balance = input('Balance:')\n",
    "    currency = input('Currency:')\n",
    "    \n",
    "    new_record = Record(\n",
    "        date=date,\n",
    "        account_id=c.accounts.list(name=account_name)[0].id,\n",
    "        balance=balance,\n",
    "        currency=currency\n",
    "    )\n",
    "\n",
    "    c.records.create(new_record)"
   ]
  },
  {
   "cell_type": "code",
   "execution_count": 17,
   "metadata": {},
   "outputs": [
    {
     "data": {
      "text/html": [
       "<div>\n",
       "<style scoped>\n",
       "    .dataframe tbody tr th:only-of-type {\n",
       "        vertical-align: middle;\n",
       "    }\n",
       "\n",
       "    .dataframe tbody tr th {\n",
       "        vertical-align: top;\n",
       "    }\n",
       "\n",
       "    .dataframe thead th {\n",
       "        text-align: right;\n",
       "    }\n",
       "</style>\n",
       "<table border=\"1\" class=\"dataframe\">\n",
       "  <thead>\n",
       "    <tr style=\"text-align: right;\">\n",
       "      <th></th>\n",
       "      <th>date</th>\n",
       "      <th>account_id</th>\n",
       "      <th>balance</th>\n",
       "      <th>currency</th>\n",
       "      <th>id</th>\n",
       "    </tr>\n",
       "  </thead>\n",
       "  <tbody>\n",
       "    <tr>\n",
       "      <th>0</th>\n",
       "      <td>2020-01-01</td>\n",
       "      <td>affe99d7</td>\n",
       "      <td>38055.82</td>\n",
       "      <td>USD</td>\n",
       "      <td>9ffeeab0</td>\n",
       "    </tr>\n",
       "    <tr>\n",
       "      <th>1</th>\n",
       "      <td>2020-02-01</td>\n",
       "      <td>affe99d7</td>\n",
       "      <td>35724.07</td>\n",
       "      <td>USD</td>\n",
       "      <td>f2286ad6</td>\n",
       "    </tr>\n",
       "    <tr>\n",
       "      <th>2</th>\n",
       "      <td>2020-03-01</td>\n",
       "      <td>affe99d7</td>\n",
       "      <td>34763.01</td>\n",
       "      <td>USD</td>\n",
       "      <td>bbd77ced</td>\n",
       "    </tr>\n",
       "    <tr>\n",
       "      <th>3</th>\n",
       "      <td>2020-04-01</td>\n",
       "      <td>affe99d7</td>\n",
       "      <td>28316.47</td>\n",
       "      <td>USD</td>\n",
       "      <td>fb2c9182</td>\n",
       "    </tr>\n",
       "    <tr>\n",
       "      <th>4</th>\n",
       "      <td>2020-05-01</td>\n",
       "      <td>affe99d7</td>\n",
       "      <td>33022.32</td>\n",
       "      <td>USD</td>\n",
       "      <td>08e45e70</td>\n",
       "    </tr>\n",
       "  </tbody>\n",
       "</table>\n",
       "</div>"
      ],
      "text/plain": [
       "         date account_id   balance currency        id\n",
       "0  2020-01-01   affe99d7  38055.82      USD  9ffeeab0\n",
       "1  2020-02-01   affe99d7  35724.07      USD  f2286ad6\n",
       "2  2020-03-01   affe99d7  34763.01      USD  bbd77ced\n",
       "3  2020-04-01   affe99d7  28316.47      USD  fb2c9182\n",
       "4  2020-05-01   affe99d7  33022.32      USD  08e45e70"
      ]
     },
     "execution_count": 17,
     "metadata": {},
     "output_type": "execute_result"
    }
   ],
   "source": [
    "records = c.records.list(account_id='affe99d7').to_pandas()\n",
    "records['balance'] = records['balance'].astype(float)\n",
    "records.head()"
   ]
  },
  {
   "cell_type": "code",
   "execution_count": 18,
   "metadata": {},
   "outputs": [
    {
     "name": "stderr",
     "output_type": "stream",
     "text": [
      "/Users/hunterbeck/Documents/GitHub/finance-app/venv/lib/python3.7/site-packages/pandas/plotting/_matplotlib/core.py:1235: UserWarning: FixedFormatter should only be used together with FixedLocator\n",
      "  ax.set_xticklabels(xticklabels)\n"
     ]
    },
    {
     "data": {
      "text/plain": [
       "<AxesSubplot:xlabel='date'>"
      ]
     },
     "execution_count": 18,
     "metadata": {},
     "output_type": "execute_result"
    },
    {
     "data": {
      "image/png": "[encoded data removed]",
      "text/plain": [
       "<Figure size 432x288 with 1 Axes>"
      ]
     },
     "metadata": {
      "needs_background": "light"
     },
     "output_type": "display_data"
    }
   ],
   "source": [
    "records.plot(x='date', y='balance')"
   ]
  },
  {
   "cell_type": "code",
   "execution_count": 8,
   "metadata": {},
   "outputs": [
    {
     "name": "stdout",
     "output_type": "stream",
     "text": [
      "Date (YYYY-MM-DD):2020-08-31\n",
      "Account Name:SpareBank Debit\n",
      "Balance:69045.18\n",
      "Currency:NOK\n"
     ]
    }
   ],
   "source": [
    "createRecord()"
   ]
  },
  {
   "cell_type": "code",
   "execution_count": 9,
   "metadata": {},
   "outputs": [
    {
     "name": "stdout",
     "output_type": "stream",
     "text": [
      "Date (YYYY-MM-DD):2020-09-30\n",
      "Account Name:SpareBank Debit\n",
      "Balance:79379.10\n",
      "Currency:NOK\n"
     ]
    }
   ],
   "source": [
    "createRecord()"
   ]
  },
  {
   "cell_type": "code",
   "execution_count": 11,
   "metadata": {},
   "outputs": [
    {
     "name": "stdout",
     "output_type": "stream",
     "text": [
      "Date (YYYY-MM-DD):2020-10-20\n",
      "Account Name:SpareBank Savings\n",
      "Balance:260008\n",
      "Currency:NOK\n"
     ]
    }
   ],
   "source": [
    "createRecord()"
   ]
  },
  {
   "cell_type": "code",
   "execution_count": 1,
   "metadata": {},
   "outputs": [],
   "source": [
    "import yaml"
   ]
  },
  {
   "cell_type": "code",
   "execution_count": 12,
   "metadata": {},
   "outputs": [],
   "source": [
    "with open('config.yml') as file:\n",
    "    config = yaml.load(file, Loader=yaml.FullLoader)\n",
    "    \n",
    "\n",
    "link_list = []\n",
    "\n",
    "for link in config['navbar']:\n",
    "    link_list.append(\n",
    "       (link, '#' + config['navbar'][link])\n",
    "    )"
   ]
  },
  {
   "cell_type": "code",
   "execution_count": 13,
   "metadata": {},
   "outputs": [
    {
     "data": {
      "text/plain": [
       "[('SpareBank1',\n",
       "  '#https://www.sparebank1.no/ostlandet/nettbank-privat/oversikt\"'),\n",
       " ('Chase',\n",
       "  '#https://secure05b.chase.com/web/auth/dashboard#/dashboard/accounts/summary/dda;params=dda,257633572'),\n",
       " ('Wealthfront', '#https://www.wealthfront.com/dashboard'),\n",
       " ('Optum HSA', '#https://account.optumbank.com/account'),\n",
       " ('Siemens Savings',\n",
       "  '#https://leplb0700.upoint.alight.com/web/siemens/home?linkId=PRTL_DIRECT&technicalNameForLink=PRTL_DIRECT&userFriendlyNameForLink=Home&domain=Ben-CM&baseClientIndicator=Base'),\n",
       " ('Marcus', '#https://www.marcus.com/us/en/login')]"
      ]
     },
     "execution_count": 13,
     "metadata": {},
     "output_type": "execute_result"
    }
   ],
   "source": [
    "link_list"
   ]
  },
  {
   "cell_type": "code",
   "execution_count": 8,
   "metadata": {},
   "outputs": [
    {
     "data": {
      "text/plain": [
       "['__class__',\n",
       " '__delattr__',\n",
       " '__dict__',\n",
       " '__dir__',\n",
       " '__doc__',\n",
       " '__eq__',\n",
       " '__format__',\n",
       " '__ge__',\n",
       " '__getattribute__',\n",
       " '__gt__',\n",
       " '__hash__',\n",
       " '__init__',\n",
       " '__init_subclass__',\n",
       " '__le__',\n",
       " '__lt__',\n",
       " '__module__',\n",
       " '__ne__',\n",
       " '__new__',\n",
       " '__reduce__',\n",
       " '__reduce_ex__',\n",
       " '__repr__',\n",
       " '__setattr__',\n",
       " '__sizeof__',\n",
       " '__str__',\n",
       " '__subclasshook__',\n",
       " '__weakref__',\n",
       " '_country_codes',\n",
       " '_country_codes_file',\n",
       " '_currency_codes',\n",
       " '_currency_codes_file',\n",
       " '_db_path',\n",
       " 'accounts',\n",
       " 'labels',\n",
       " 'records']"
      ]
     },
     "execution_count": 8,
     "metadata": {},
     "output_type": "execute_result"
    }
   ],
   "source": [
    "dir(c)"
   ]
  },
  {
   "cell_type": "code",
   "execution_count": 45,
   "metadata": {},
   "outputs": [
    {
     "data": {
      "text/html": [
       "<table border=\"1\" class=\"dataframe\">\n",
       "  <thead>\n",
       "    <tr style=\"text-align: right;\">\n",
       "      <th></th>\n",
       "      <th>name</th>\n",
       "      <th>country_code</th>\n",
       "      <th>label_id</th>\n",
       "      <th>id</th>\n",
       "    </tr>\n",
       "  </thead>\n",
       "  <tbody>\n",
       "    <tr>\n",
       "      <th>0</th>\n",
       "      <td>Chase Checking</td>\n",
       "      <td>USA</td>\n",
       "      <td>0de1ed51</td>\n",
       "      <td>882b8dca</td>\n",
       "    </tr>\n",
       "    <tr>\n",
       "      <th>1</th>\n",
       "      <td>Chase Savings</td>\n",
       "      <td>USA</td>\n",
       "      <td>0de1ed51</td>\n",
       "      <td>605096bb</td>\n",
       "    </tr>\n",
       "    <tr>\n",
       "      <th>2</th>\n",
       "      <td>Marcus Savings</td>\n",
       "      <td>USA</td>\n",
       "      <td>0de1ed51</td>\n",
       "      <td>9c4b0e97</td>\n",
       "    </tr>\n",
       "    <tr>\n",
       "      <th>3</th>\n",
       "      <td>SpareBank Savings</td>\n",
       "      <td>NOR</td>\n",
       "      <td>0de1ed51</td>\n",
       "      <td>22d775cd</td>\n",
       "    </tr>\n",
       "    <tr>\n",
       "      <th>4</th>\n",
       "      <td>SpareBank Debit</td>\n",
       "      <td>NOR</td>\n",
       "      <td>0de1ed51</td>\n",
       "      <td>6c0037c1</td>\n",
       "    </tr>\n",
       "    <tr>\n",
       "      <th>5</th>\n",
       "      <td>Wealthfront Cash Account</td>\n",
       "      <td>USA</td>\n",
       "      <td>0de1ed51</td>\n",
       "      <td>463a9896</td>\n",
       "    </tr>\n",
       "    <tr>\n",
       "      <th>6</th>\n",
       "      <td>SpareBank BSU</td>\n",
       "      <td>NOR</td>\n",
       "      <td>12c5ff9b</td>\n",
       "      <td>cb6a7a36</td>\n",
       "    </tr>\n",
       "    <tr>\n",
       "      <th>7</th>\n",
       "      <td>Optum USA</td>\n",
       "      <td>USA</td>\n",
       "      <td>12c5ff9b</td>\n",
       "      <td>cc237820</td>\n",
       "    </tr>\n",
       "    <tr>\n",
       "      <th>8</th>\n",
       "      <td>Siemens Savings Plan</td>\n",
       "      <td>USA</td>\n",
       "      <td>4fe0e2d2</td>\n",
       "      <td>affe99d7</td>\n",
       "    </tr>\n",
       "  </tbody>\n",
       "</table>"
      ],
      "text/plain": [
       "                       name country_code   label_id        id\n",
       "0            Chase Checking          USA   0de1ed51  882b8dca\n",
       "1             Chase Savings          USA   0de1ed51  605096bb\n",
       "2            Marcus Savings          USA   0de1ed51  9c4b0e97\n",
       "3         SpareBank Savings          NOR   0de1ed51  22d775cd\n",
       "4           SpareBank Debit          NOR   0de1ed51  6c0037c1\n",
       "5  Wealthfront Cash Account          USA   0de1ed51  463a9896\n",
       "6             SpareBank BSU          NOR   12c5ff9b  cb6a7a36\n",
       "7                 Optum USA          USA   12c5ff9b  cc237820\n",
       "8      Siemens Savings Plan          USA   4fe0e2d2  affe99d7"
      ]
     },
     "execution_count": 45,
     "metadata": {},
     "output_type": "execute_result"
    }
   ],
   "source": [
    "c.accounts.list()"
   ]
  },
  {
   "cell_type": "code",
   "execution_count": 43,
   "metadata": {},
   "outputs": [],
   "source": [
    "country_codes = []\n",
    "for account in accounts:\n",
    "    country_codes.append(account.country_code)\n",
    "country_codes = list(set(country_codes))"
   ]
  },
  {
   "cell_type": "code",
   "execution_count": 44,
   "metadata": {},
   "outputs": [
    {
     "data": {
      "text/plain": [
       "['USA', 'NOR']"
      ]
     },
     "execution_count": 44,
     "metadata": {},
     "output_type": "execute_result"
    }
   ],
   "source": [
    "country_codes"
   ]
  },
  {
   "cell_type": "code",
   "execution_count": 55,
   "metadata": {},
   "outputs": [],
   "source": [
    "records = c.records.list().to_pandas()\n",
    "accounts = c.accounts.list().to_pandas()\n",
    "labels = c.labels.list().to_pandas()"
   ]
  },
  {
   "cell_type": "code",
   "execution_count": 56,
   "metadata": {},
   "outputs": [],
   "source": [
    "master = records.merge(accounts, how='left', left_on='account_id', right_on='id')\n",
    "master = master.merge(labels, how='left', left_on='label_id', right_on='id')"
   ]
  },
  {
   "cell_type": "code",
   "execution_count": 58,
   "metadata": {},
   "outputs": [
    {
     "name": "stdout",
     "output_type": "stream",
     "text": [
      "          date account_id    balance currency      id_x                name_x  \\\n",
      "0   2020-04-01   605096bb    1089.66      USD  ab408c8b         Chase Savings   \n",
      "1   2020-01-01   882b8dca    1664.45      USD  17ba75c5        Chase Checking   \n",
      "2   2020-01-01   605096bb    1089.63      USD  502f1707         Chase Savings   \n",
      "3   2020-01-01   6c0037c1  176984.38      NOK  a96f57bc       SpareBank Debit   \n",
      "4   2020-01-01   22d775cd    5008.00      NOK  ff2d14db     SpareBank Savings   \n",
      "..         ...        ...        ...      ...       ...                   ...   \n",
      "68  2020-10-23   affe99d7   38635.28      USD  a58e511d  Siemens Savings Plan   \n",
      "69  2020-08-31   6c0037c1   69045.18      NOK  5fa494de       SpareBank Debit   \n",
      "70  2020-09-30   6c0037c1   79379.10      NOK  bf31ae85       SpareBank Debit   \n",
      "71  2020-09-21   22d775cd  255008.00      NOK  efd32cfb     SpareBank Savings   \n",
      "72  2020-10-20   22d775cd  260008.00      NOK  5e7e5789     SpareBank Savings   \n",
      "\n",
      "   country_code   label_id      id_y     name_y  \\\n",
      "0           USA   0de1ed51  605096bb        NaN   \n",
      "1           USA   0de1ed51  882b8dca        NaN   \n",
      "2           USA   0de1ed51  605096bb        NaN   \n",
      "3           NOR   0de1ed51  6c0037c1        NaN   \n",
      "4           NOR   0de1ed51  22d775cd        NaN   \n",
      "..          ...        ...       ...        ...   \n",
      "68          USA   4fe0e2d2  affe99d7  long-term   \n",
      "69          NOR   0de1ed51  6c0037c1        NaN   \n",
      "70          NOR   0de1ed51  6c0037c1        NaN   \n",
      "71          NOR   0de1ed51  22d775cd        NaN   \n",
      "72          NOR   0de1ed51  22d775cd        NaN   \n",
      "\n",
      "                                  description        id  \n",
      "0                                         NaN       NaN  \n",
      "1                                         NaN       NaN  \n",
      "2                                         NaN       NaN  \n",
      "3                                         NaN       NaN  \n",
      "4                                         NaN       NaN  \n",
      "..                                        ...       ...  \n",
      "68  funds or accounts designed for retirement  4fe0e2d2  \n",
      "69                                        NaN       NaN  \n",
      "70                                        NaN       NaN  \n",
      "71                                        NaN       NaN  \n",
      "72                                        NaN       NaN  \n",
      "\n",
      "[73 rows x 12 columns]\n"
     ]
    }
   ],
   "source": [
    "print(master)"
   ]
  },
  {
   "cell_type": "code",
   "execution_count": 62,
   "metadata": {},
   "outputs": [],
   "source": [
    "l = [2,1,3]"
   ]
  },
  {
   "cell_type": "code",
   "execution_count": 63,
   "metadata": {},
   "outputs": [],
   "source": [
    "l.sort()"
   ]
  },
  {
   "cell_type": "code",
   "execution_count": 65,
   "metadata": {},
   "outputs": [
    {
     "data": {
      "text/plain": [
       "3"
      ]
     },
     "execution_count": 65,
     "metadata": {},
     "output_type": "execute_result"
    }
   ],
   "source": [
    "l[-1]"
   ]
  },
  {
   "cell_type": "code",
   "execution_count": null,
   "metadata": {},
   "outputs": [],
   "source": []
  }
 ],
 "metadata": {
  "kernelspec": {
   "display_name": "finance_app",
   "language": "python",
   "name": "finance_app"
  },
  "language_info": {
   "codemirror_mode": {
    "name": "ipython",
    "version": 3
   },
   "file_extension": ".py",
   "mimetype": "text/x-python",
   "name": "python",
   "nbconvert_exporter": "python",
   "pygments_lexer": "ipython3",
   "version": "3.7.6"
  }
 },
 "nbformat": 4,
 "nbformat_minor": 4
}
